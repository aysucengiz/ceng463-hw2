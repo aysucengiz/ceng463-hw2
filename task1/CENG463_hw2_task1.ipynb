{
  "nbformat": 4,
  "nbformat_minor": 0,
  "metadata": {
    "colab": {
      "provenance": [],
      "authorship_tag": "ABX9TyNNUNjk0JSEhD6A+O1glvkz",
      "include_colab_link": true
    },
    "kernelspec": {
      "name": "python3",
      "display_name": "Python 3"
    },
    "language_info": {
      "name": "python"
    }
  },
  "cells": [
    {
      "cell_type": "markdown",
      "metadata": {
        "id": "view-in-github",
        "colab_type": "text"
      },
      "source": [
        "<a href=\"https://colab.research.google.com/github/aysucengiz/ceng462-hw2/blob/main/CENG463_hw2_task1.ipynb\" target=\"_parent\"><img src=\"https://colab.research.google.com/assets/colab-badge.svg\" alt=\"Open In Colab\"/></a>"
      ]
    },
    {
      "cell_type": "markdown",
      "source": [
        "# Task 1\n",
        "Given a parliamentary speech in one of several languages, identify the ideology of the speaker’s party. In other words, this involves performing binary classification to determine whether the speaker’s party leans left (0) or right (1).\n",
        "\n",
        "\n",
        "* Select only one country (excluding the UK) and use the parliamentary debates from that country to complete the assigned tasks.\n",
        "\n",
        "* Fine-tune a **multilingual masked language model:**\n",
        "  - multilingual BERT\n",
        "  - XLMRoberta-base\n",
        "  - language-specific models like Turkish BERT or German BERT.\n",
        "\n",
        "* In addition, you are required to experiment with a multilingual causal language model:\n",
        "  - Llama-3.1-8B\n",
        "\n",
        "\n",
        "https://sidih.si/cdn/121/index.html"
      ],
      "metadata": {
        "id": "2CBbVkarCCVh"
      }
    },
    {
      "cell_type": "code",
      "execution_count": null,
      "metadata": {
        "id": "tHS7EvYUB8SE"
      },
      "outputs": [],
      "source": []
    },
    {
      "cell_type": "markdown",
      "source": [
        "## Masked LM\n",
        "\n",
        "Fine-tune the selected masked language model for each task: For one task use ”text_en” and\n",
        "for the other task use ”text” (original language)."
      ],
      "metadata": {
        "id": "JzMapXzvESSB"
      }
    },
    {
      "cell_type": "code",
      "source": [],
      "metadata": {
        "id": "c-nUgDNcFct1"
      },
      "execution_count": null,
      "outputs": []
    },
    {
      "cell_type": "markdown",
      "source": [
        "## Causal LM\n",
        "\n",
        "For each task, perform inference using the selected causal language model twice: Once using\n",
        "”text en” and once using ”text” (original language)."
      ],
      "metadata": {
        "id": "vWVNYJEkFWQM"
      }
    },
    {
      "cell_type": "code",
      "source": [],
      "metadata": {
        "id": "6aT-0yNlFbCX"
      },
      "execution_count": null,
      "outputs": []
    }
  ]
}
