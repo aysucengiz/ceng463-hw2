{
  "nbformat": 4,
  "nbformat_minor": 0,
  "metadata": {
    "colab": {
      "provenance": [],
      "include_colab_link": true
    },
    "kernelspec": {
      "name": "python3",
      "display_name": "Python 3"
    },
    "language_info": {
      "name": "python"
    }
  },
  "cells": [
    {
      "cell_type": "markdown",
      "metadata": {
        "id": "view-in-github",
        "colab_type": "text"
      },
      "source": [
        "<a href=\"https://colab.research.google.com/github/aysucengiz/ceng463-hw2/blob/task1/task1/CENG463_hw2_task1.ipynb\" target=\"_parent\"><img src=\"https://colab.research.google.com/assets/colab-badge.svg\" alt=\"Open In Colab\"/></a>"
      ]
    },
    {
      "cell_type": "markdown",
      "source": [
        "# Task 1\n",
        "Given a parliamentary speech in one of several languages, identify the ideology of the speaker’s party. In other words, this involves performing binary classification to determine whether the speaker’s party leans left (0) or right (1).\n",
        "\n",
        "\n",
        "* Select only one country (excluding the UK) and use the parliamentary debates from that country to complete the assigned tasks.\n",
        "\n",
        "* Fine-tune a **multilingual masked language model:**\n",
        "  - multilingual BERT\n",
        "  - XLMRoberta-base\n",
        "  - language-specific models like Turkish BERT or German BERT.\n",
        "\n",
        "* In addition, you are required to experiment with a multilingual causal language model:\n",
        "  - Llama-3.1-8B\n",
        "\n",
        "\n",
        "https://sidih.si/cdn/121/index.html"
      ],
      "metadata": {
        "id": "2CBbVkarCCVh"
      }
    },
    {
      "cell_type": "markdown",
      "source": [
        "## Prepare the Data\n",
        "\n",
        "Steps:\n",
        "- Download\n",
        "- Read with pandas\n",
        "- Split\n"
      ],
      "metadata": {
        "id": "iZ_fuHAMwHB7"
      }
    },
    {
      "cell_type": "markdown",
      "source": [
        "### Download and Read w/ Pandas\n",
        "\n",
        "Download from the given lin in the homework pdf and unzip"
      ],
      "metadata": {
        "id": "YVVFwWMty-F9"
      }
    },
    {
      "cell_type": "code",
      "execution_count": 8,
      "metadata": {
        "id": "tHS7EvYUB8SE",
        "colab": {
          "base_uri": "https://localhost:8080/"
        },
        "collapsed": true,
        "outputId": "60a9654e-ce87-400b-da69-bce292de2357"
      },
      "outputs": [
        {
          "output_type": "stream",
          "name": "stdout",
          "text": [
            "--2024-12-22 09:59:37--  https://zenodo.org/records/10450641/files/trainingset-ideology-power.zip?download=1\n",
            "Resolving zenodo.org (zenodo.org)... 188.185.43.25, 188.185.45.92, 188.185.48.194, ...\n",
            "Connecting to zenodo.org (zenodo.org)|188.185.43.25|:443... connected.\n",
            "HTTP request sent, awaiting response... 200 OK\n",
            "Length: 813899321 (776M) [application/octet-stream]\n",
            "Saving to: ‘trainingset-ideology-power.zip’\n",
            "\n",
            "r.zip                23%[===>                ] 180.58M  26.7MB/s    eta 25s    ^C\n"
          ]
        }
      ],
      "source": [
        "!wget -O trainingset-ideology-power.zip https://zenodo.org/records/10450641/files/trainingset-ideology-power.zip?download=1"
      ]
    },
    {
      "cell_type": "code",
      "source": [
        "!unzip trainingset-ideology-power.zip -d trainingset-ideology-power"
      ],
      "metadata": {
        "colab": {
          "base_uri": "https://localhost:8080/"
        },
        "collapsed": true,
        "id": "a9-keQFTvwu-",
        "outputId": "1750acce-7b31-48ba-8d4a-aeeb3486839f"
      },
      "execution_count": 9,
      "outputs": [
        {
          "output_type": "stream",
          "name": "stdout",
          "text": [
            "Archive:  trainingset-ideology-power.zip\n",
            "  End-of-central-directory signature not found.  Either this file is not\n",
            "  a zipfile, or it constitutes one disk of a multi-part archive.  In the\n",
            "  latter case the central directory and zipfile comment will be found on\n",
            "  the last disk(s) of this archive.\n",
            "unzip:  cannot find zipfile directory in one of trainingset-ideology-power.zip or\n",
            "        trainingset-ideology-power.zip.zip, and cannot find trainingset-ideology-power.zip.ZIP, period.\n"
          ]
        }
      ]
    },
    {
      "cell_type": "markdown",
      "source": [
        "Read with pandas and print the head"
      ],
      "metadata": {
        "id": "55Uj2sC7zC_N"
      }
    },
    {
      "cell_type": "code",
      "source": [
        "import pandas as pd\n",
        "from tabulate import tabulate\n",
        "\n",
        "data_df = pd.read_csv(\"./trainingset-ideology-power/orientation/orientation-tr-train.tsv\", delimiter=\"\\t\")\n",
        "print(data_df.head())"
      ],
      "metadata": {
        "id": "bKL4aoyqw2tU",
        "outputId": "8991b2ba-7359-4cef-b7ad-27a846dff413",
        "colab": {
          "base_uri": "https://localhost:8080/"
        }
      },
      "execution_count": 10,
      "outputs": [
        {
          "output_type": "stream",
          "name": "stdout",
          "text": [
            "        id                           speaker sex  \\\n",
            "0  tr00000  ca2031caa4032c51980160359953d507   M   \n",
            "1  tr00001  4cee0addb3c69f6866869b180f90d45f   M   \n",
            "2  tr00002  b3d7f76d74ec268492f8190ca123a6b2   M   \n",
            "3  tr00003  722efac7138c8197a9d1e97eed3a8b18   M   \n",
            "4  tr00004  be82a4ade406ec6774a0a2e38f6957e3   M   \n",
            "\n",
            "                                                text  \\\n",
            "0  Yeni yasama döneminin ülkemiz için, milletimiz...   \n",
            "1  Sayın Başkan, değerli milletvekilleri; bugün, ...   \n",
            "2  Sayın Başkanım, öncelikle yüce Meclisin Başkan...   \n",
            "3  24’üncü Dönem Meclis Başkanlığına seçilmenizde...   \n",
            "4  24’üncü Yasama Dönemimizin tüm milletvekilleri...   \n",
            "\n",
            "                                             text_en  label  \n",
            "0  Mr. President, dear lawmakers, I salute you, a...      1  \n",
            "1  Mr. President, members of lawmakers, as I spea...      1  \n",
            "2  Mr. President, I'm here to share with you the ...      1  \n",
            "3  Mr. President, under the principles determined...      1  \n",
            "4  Mr. President, dear lawmakers, I ask God's mer...      1  \n"
          ]
        }
      ]
    },
    {
      "cell_type": "markdown",
      "source": [
        "### Split\n",
        "\n",
        "If you intend to participate in the shared task, you can evaluate your model on the test set.\n",
        "Since the test dataset lacks labels, you must split your training data into **90% for training** and\n",
        "**10% for testing**. Ensure the split is performed in a `stratified` manner to maintain the proportion\n",
        "of labels in both subsets.\n",
        "\n",
        "[Split guide](https://scikit-learn.org/1.5/modules/generated/sklearn.model_selection.train_test_split.html) from the pdf.\n",
        "\n",
        "[Stratify guide](https://stackoverflow.com/questions/34842405/parameter-stratify-from-method-train-test-split-scikit-learn) from the pdf."
      ],
      "metadata": {
        "id": "prNbzBFRzRCc"
      }
    },
    {
      "cell_type": "code",
      "source": [],
      "metadata": {
        "id": "EhnhhVyqzjrG"
      },
      "execution_count": null,
      "outputs": []
    },
    {
      "cell_type": "markdown",
      "source": [
        "## Masked LM\n",
        "\n",
        "Fine-tune the selected masked language model for each task: For one task use ”text_en” and\n",
        "for the other task use ”text” (original language)."
      ],
      "metadata": {
        "id": "JzMapXzvESSB"
      }
    },
    {
      "cell_type": "code",
      "source": [],
      "metadata": {
        "id": "c-nUgDNcFct1"
      },
      "execution_count": null,
      "outputs": []
    },
    {
      "cell_type": "markdown",
      "source": [
        "## Causal LM\n",
        "\n",
        "For each task, perform inference using the selected causal language model twice: Once using\n",
        "”text en” and once using ”text” (original language)."
      ],
      "metadata": {
        "id": "vWVNYJEkFWQM"
      }
    },
    {
      "cell_type": "code",
      "source": [],
      "metadata": {
        "id": "6aT-0yNlFbCX"
      },
      "execution_count": null,
      "outputs": []
    }
  ]
}