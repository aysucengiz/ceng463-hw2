{
  "nbformat": 4,
  "nbformat_minor": 0,
  "metadata": {
    "colab": {
      "provenance": [],
      "gpuType": "T4",
      "include_colab_link": true
    },
    "kernelspec": {
      "name": "python3",
      "display_name": "Python 3"
    },
    "language_info": {
      "name": "python"
    },
    "accelerator": "GPU"
  },
  "cells": [
    {
      "cell_type": "markdown",
      "metadata": {
        "id": "view-in-github",
        "colab_type": "text"
      },
      "source": [
        "<a href=\"https://colab.research.google.com/github/aysucengiz/ceng463-hw2/blob/task1/task1/CENG463_hw2_task1.ipynb\" target=\"_parent\"><img src=\"https://colab.research.google.com/assets/colab-badge.svg\" alt=\"Open In Colab\"/></a>"
      ]
    },
    {
      "cell_type": "markdown",
      "source": [
        "# Task 1\n",
        "Given a parliamentary speech in one of several languages, identify the ideology of the speaker’s party. In other words, this involves performing binary classification to determine whether the speaker’s party leans left (0) or right (1).\n",
        "\n",
        "\n",
        "* Select only one country (excluding the UK) and use the parliamentary debates from that country to complete the assigned tasks.\n",
        "\n",
        "* Fine-tune a **multilingual masked language model:**\n",
        "  - multilingual BERT\n",
        "  - XLMRoberta-base\n",
        "  - language-specific models like Turkish BERT or German BERT.\n",
        "\n",
        "* In addition, you are required to experiment with a multilingual causal language model:\n",
        "  - Llama-3.1-8B\n",
        "\n",
        "\n",
        "https://sidih.si/cdn/121/index.html"
      ],
      "metadata": {
        "id": "2CBbVkarCCVh"
      }
    },
    {
      "cell_type": "markdown",
      "source": [
        "## Prepare the Data\n",
        "\n",
        "Steps:\n",
        "- Download\n",
        "- Read with pandas\n",
        "- Split\n"
      ],
      "metadata": {
        "id": "iZ_fuHAMwHB7"
      }
    },
    {
      "cell_type": "markdown",
      "source": [
        "### Download and Read w/ Pandas\n",
        "\n",
        "Download from the given lin in the homework pdf and unzip"
      ],
      "metadata": {
        "id": "YVVFwWMty-F9"
      }
    },
    {
      "cell_type": "code",
      "execution_count": 3,
      "metadata": {
        "id": "tHS7EvYUB8SE",
        "colab": {
          "base_uri": "https://localhost:8080/"
        },
        "collapsed": true,
        "outputId": "91b0273d-a6b5-4234-bc57-387feb178042"
      },
      "outputs": [
        {
          "output_type": "stream",
          "name": "stdout",
          "text": [
            "--2024-12-27 07:54:04--  https://zenodo.org/records/10450641/files/trainingset-ideology-power.zip?download=1\n",
            "Resolving zenodo.org (zenodo.org)... 188.185.45.92, 188.185.48.194, 188.185.43.25, ...\n",
            "Connecting to zenodo.org (zenodo.org)|188.185.45.92|:443... connected.\n",
            "HTTP request sent, awaiting response... 200 OK\n",
            "Length: 813899321 (776M) [application/octet-stream]\n",
            "Saving to: ‘trainingset-ideology-power.zip’\n",
            "\n",
            "trainingset-ideolog 100%[===================>] 776.19M  8.80MB/s    in 1m 49s  \n",
            "\n",
            "2024-12-27 07:55:54 (7.15 MB/s) - ‘trainingset-ideology-power.zip’ saved [813899321/813899321]\n",
            "\n"
          ]
        }
      ],
      "source": [
        "!wget -O trainingset-ideology-power.zip https://zenodo.org/records/10450641/files/trainingset-ideology-power.zip?download=1"
      ]
    },
    {
      "cell_type": "code",
      "source": [
        "!unzip trainingset-ideology-power.zip -d trainingset-ideology-power"
      ],
      "metadata": {
        "colab": {
          "base_uri": "https://localhost:8080/"
        },
        "collapsed": true,
        "id": "a9-keQFTvwu-",
        "outputId": "f56deecf-3205-45b9-ef48-f3e05bc45d3c"
      },
      "execution_count": 4,
      "outputs": [
        {
          "output_type": "stream",
          "name": "stdout",
          "text": [
            "Archive:  trainingset-ideology-power.zip\n",
            "   creating: trainingset-ideology-power/orientation/\n",
            "  inflating: trainingset-ideology-power/orientation/orientation-at-train.tsv  \n",
            "  inflating: trainingset-ideology-power/orientation/orientation-ba-train.tsv  \n",
            "  inflating: trainingset-ideology-power/orientation/orientation-be-train.tsv  \n",
            "  inflating: trainingset-ideology-power/orientation/orientation-bg-train.tsv  \n",
            "  inflating: trainingset-ideology-power/orientation/orientation-cz-train.tsv  \n",
            "  inflating: trainingset-ideology-power/orientation/orientation-dk-train.tsv  \n",
            "  inflating: trainingset-ideology-power/orientation/orientation-ee-train.tsv  \n",
            "  inflating: trainingset-ideology-power/orientation/orientation-es-ct-train.tsv  \n",
            "  inflating: trainingset-ideology-power/orientation/orientation-es-ga-train.tsv  \n",
            "  inflating: trainingset-ideology-power/orientation/orientation-es-train.tsv  \n",
            "  inflating: trainingset-ideology-power/orientation/orientation-fi-train.tsv  \n",
            "  inflating: trainingset-ideology-power/orientation/orientation-fr-train.tsv  \n",
            "  inflating: trainingset-ideology-power/orientation/orientation-gb-train.tsv  \n",
            "  inflating: trainingset-ideology-power/orientation/orientation-gr-train.tsv  \n",
            "  inflating: trainingset-ideology-power/orientation/orientation-hr-train.tsv  \n",
            "  inflating: trainingset-ideology-power/orientation/orientation-hu-train.tsv  \n",
            "  inflating: trainingset-ideology-power/orientation/orientation-is-train.tsv  \n",
            "  inflating: trainingset-ideology-power/orientation/orientation-it-train.tsv  \n",
            "  inflating: trainingset-ideology-power/orientation/orientation-lv-train.tsv  \n",
            "  inflating: trainingset-ideology-power/orientation/orientation-nl-train.tsv  \n",
            "  inflating: trainingset-ideology-power/orientation/orientation-no-train.tsv  \n",
            "  inflating: trainingset-ideology-power/orientation/orientation-pl-train.tsv  \n",
            "  inflating: trainingset-ideology-power/orientation/orientation-pt-train.tsv  \n",
            "  inflating: trainingset-ideology-power/orientation/orientation-rs-train.tsv  \n",
            "  inflating: trainingset-ideology-power/orientation/orientation-se-train.tsv  \n",
            "  inflating: trainingset-ideology-power/orientation/orientation-si-train.tsv  \n",
            "  inflating: trainingset-ideology-power/orientation/orientation-tr-train.tsv  \n",
            "  inflating: trainingset-ideology-power/orientation/orientation-ua-train.tsv  \n",
            "   creating: trainingset-ideology-power/power/\n",
            "  inflating: trainingset-ideology-power/power/power-at-train.tsv  \n",
            "  inflating: trainingset-ideology-power/power/power-ba-train.tsv  \n",
            "  inflating: trainingset-ideology-power/power/power-be-train.tsv  \n",
            "  inflating: trainingset-ideology-power/power/power-bg-train.tsv  \n",
            "  inflating: trainingset-ideology-power/power/power-cz-train.tsv  \n",
            "  inflating: trainingset-ideology-power/power/power-dk-train.tsv  \n",
            "  inflating: trainingset-ideology-power/power/power-es-ct-train.tsv  \n",
            "  inflating: trainingset-ideology-power/power/power-es-ga-train.tsv  \n",
            "  inflating: trainingset-ideology-power/power/power-es-pv-train.tsv  \n",
            "  inflating: trainingset-ideology-power/power/power-es-train.tsv  \n",
            "  inflating: trainingset-ideology-power/power/power-fi-train.tsv  \n",
            "  inflating: trainingset-ideology-power/power/power-fr-train.tsv  \n",
            "  inflating: trainingset-ideology-power/power/power-gb-train.tsv  \n",
            "  inflating: trainingset-ideology-power/power/power-gr-train.tsv  \n",
            "  inflating: trainingset-ideology-power/power/power-hr-train.tsv  \n",
            "  inflating: trainingset-ideology-power/power/power-hu-train.tsv  \n",
            "  inflating: trainingset-ideology-power/power/power-it-train.tsv  \n",
            "  inflating: trainingset-ideology-power/power/power-lv-train.tsv  \n",
            "  inflating: trainingset-ideology-power/power/power-nl-train.tsv  \n",
            "  inflating: trainingset-ideology-power/power/power-pl-train.tsv  \n",
            "  inflating: trainingset-ideology-power/power/power-pt-train.tsv  \n",
            "  inflating: trainingset-ideology-power/power/power-rs-train.tsv  \n",
            "  inflating: trainingset-ideology-power/power/power-si-train.tsv  \n",
            "  inflating: trainingset-ideology-power/power/power-tr-train.tsv  \n",
            "  inflating: trainingset-ideology-power/power/power-ua-train.tsv  \n",
            "  inflating: trainingset-ideology-power/README.txt  \n"
          ]
        }
      ]
    },
    {
      "cell_type": "markdown",
      "source": [
        "Read with pandas and print the head"
      ],
      "metadata": {
        "id": "55Uj2sC7zC_N"
      }
    },
    {
      "cell_type": "code",
      "source": [
        "import pandas as pd\n",
        "from tabulate import tabulate\n",
        "\n",
        "data_df = pd.read_csv(\"./trainingset-ideology-power/orientation/orientation-tr-train.tsv\", delimiter=\"\\t\")\n",
        "print(data_df.head())"
      ],
      "metadata": {
        "id": "bKL4aoyqw2tU",
        "outputId": "54cbdfca-ae51-4204-9a2e-345c3bdf0079",
        "colab": {
          "base_uri": "https://localhost:8080/"
        }
      },
      "execution_count": 5,
      "outputs": [
        {
          "output_type": "stream",
          "name": "stdout",
          "text": [
            "        id                           speaker sex  \\\n",
            "0  tr00000  ca2031caa4032c51980160359953d507   M   \n",
            "1  tr00001  4cee0addb3c69f6866869b180f90d45f   M   \n",
            "2  tr00002  b3d7f76d74ec268492f8190ca123a6b2   M   \n",
            "3  tr00003  722efac7138c8197a9d1e97eed3a8b18   M   \n",
            "4  tr00004  be82a4ade406ec6774a0a2e38f6957e3   M   \n",
            "\n",
            "                                                text  \\\n",
            "0  Yeni yasama döneminin ülkemiz için, milletimiz...   \n",
            "1  Sayın Başkan, değerli milletvekilleri; bugün, ...   \n",
            "2  Sayın Başkanım, öncelikle yüce Meclisin Başkan...   \n",
            "3  24’üncü Dönem Meclis Başkanlığına seçilmenizde...   \n",
            "4  24’üncü Yasama Dönemimizin tüm milletvekilleri...   \n",
            "\n",
            "                                             text_en  label  \n",
            "0  Mr. President, dear lawmakers, I salute you, a...      1  \n",
            "1  Mr. President, members of lawmakers, as I spea...      1  \n",
            "2  Mr. President, I'm here to share with you the ...      1  \n",
            "3  Mr. President, under the principles determined...      1  \n",
            "4  Mr. President, dear lawmakers, I ask God's mer...      1  \n"
          ]
        }
      ]
    },
    {
      "cell_type": "markdown",
      "source": [
        "### Split\n",
        "\n",
        "If you intend to participate in the shared task, you can evaluate your model on the test set.\n",
        "Since the test dataset lacks labels, you must split your training data into **90% for training** and\n",
        "**10% for testing**. Ensure the split is performed in a `stratified` manner to maintain the proportion\n",
        "of labels in both subsets.\n",
        "\n",
        "[Split guide](https://scikit-learn.org/1.5/modules/generated/sklearn.model_selection.train_test_split.html) from the pdf.\n",
        "\n",
        "[Stratify guide](https://stackoverflow.com/questions/34842405/parameter-stratify-from-method-train-test-split-scikit-learn) from the pdf."
      ],
      "metadata": {
        "id": "prNbzBFRzRCc"
      }
    },
    {
      "cell_type": "code",
      "source": [
        "import sklearn.model_selection\n",
        "\n",
        "train_df, test_df = sklearn.model_selection.train_test_split(data_df, test_size=0.1, stratify=data_df[\"label\"])\n",
        "\n",
        "print(\"Train data proportion of label: \\n\",train_df['label'].value_counts(normalize=True) * 100)\n",
        "print(\"Test data proportion of label: \\n\",test_df['label'].value_counts(normalize=True) * 100)"
      ],
      "metadata": {
        "id": "EhnhhVyqzjrG",
        "outputId": "aa0e9a28-e268-4c86-c179-480d003db6df",
        "colab": {
          "base_uri": "https://localhost:8080/"
        }
      },
      "execution_count": 6,
      "outputs": [
        {
          "output_type": "stream",
          "name": "stdout",
          "text": [
            "Train data proportion of label: \n",
            " label\n",
            "1    58.18645\n",
            "0    41.81355\n",
            "Name: proportion, dtype: float64\n",
            "Test data proportion of label: \n",
            " label\n",
            "1    58.178439\n",
            "0    41.821561\n",
            "Name: proportion, dtype: float64\n"
          ]
        }
      ]
    },
    {
      "cell_type": "markdown",
      "source": [
        "## Masked LM\n",
        "\n",
        "Fine-tune the selected masked language model for each task: For one task use ”text_en” and\n",
        "for the other task use ”text” (original language)."
      ],
      "metadata": {
        "id": "JzMapXzvESSB"
      }
    },
    {
      "cell_type": "code",
      "source": [
        "!pip install transformers datasets evaluate accelerate"
      ],
      "metadata": {
        "id": "gmhzJFnzIsha"
      },
      "execution_count": null,
      "outputs": []
    },
    {
      "cell_type": "markdown",
      "source": [
        "### Tokenize the data"
      ],
      "metadata": {
        "id": "bDavGEQ-QcQ9"
      }
    },
    {
      "cell_type": "code",
      "source": [
        "from transformers import XLMRobertaTokenizer\n",
        "\n",
        "roberta_tokenizer = XLMRobertaTokenizer.from_pretrained(\"xlm-roberta-base\")\n",
        "\n",
        "def tokenize_it(text):\n",
        "    return roberta_tokenizer(text, padding=\"max_length\", truncation=True)\n",
        "\n",
        "train_tokenized = tokenize_it(train_df[\"text\"])\n",
        "test_tokenized = tokenize_it(test_df[\"text\"])"
      ],
      "metadata": {
        "id": "c-nUgDNcFct1"
      },
      "execution_count": null,
      "outputs": []
    },
    {
      "cell_type": "code",
      "source": [
        "train_final = [train_tokenized ,train_df[\"label\"]]"
      ],
      "metadata": {
        "id": "E-3CqdYRJXCW"
      },
      "execution_count": null,
      "outputs": []
    },
    {
      "cell_type": "markdown",
      "source": [
        "## Causal LM\n",
        "\n",
        "For each task, perform inference using the selected causal language model twice: Once using\n",
        "”text_en” and once using ”text” (original language)."
      ],
      "metadata": {
        "id": "vWVNYJEkFWQM"
      }
    },
    {
      "cell_type": "code",
      "source": [],
      "metadata": {
        "id": "6aT-0yNlFbCX"
      },
      "execution_count": null,
      "outputs": []
    }
  ]
}