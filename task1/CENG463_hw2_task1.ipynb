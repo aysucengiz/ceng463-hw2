{
  "nbformat": 4,
  "nbformat_minor": 0,
  "metadata": {
    "colab": {
      "provenance": [],
      "include_colab_link": true
    },
    "kernelspec": {
      "name": "python3",
      "display_name": "Python 3"
    },
    "language_info": {
      "name": "python"
    }
  },
  "cells": [
    {
      "cell_type": "markdown",
      "metadata": {
        "id": "view-in-github",
        "colab_type": "text"
      },
      "source": [
        "<a href=\"https://colab.research.google.com/github/aysucengiz/ceng463-hw2/blob/task1/task1/CENG463_hw2_task1.ipynb\" target=\"_parent\"><img src=\"https://colab.research.google.com/assets/colab-badge.svg\" alt=\"Open In Colab\"/></a>"
      ]
    },
    {
      "cell_type": "markdown",
      "source": [
        "# Task 1\n",
        "Given a parliamentary speech in one of several languages, identify the ideology of the speaker’s party. In other words, this involves performing binary classification to determine whether the speaker’s party leans left (0) or right (1).\n",
        "\n",
        "\n",
        "* Select only one country (excluding the UK) and use the parliamentary debates from that country to complete the assigned tasks.\n",
        "\n",
        "* Fine-tune a **multilingual masked language model:**\n",
        "  - multilingual BERT\n",
        "  - XLMRoberta-base\n",
        "  - language-specific models like Turkish BERT or German BERT.\n",
        "\n",
        "* In addition, you are required to experiment with a multilingual causal language model:\n",
        "  - Llama-3.1-8B\n",
        "\n",
        "\n",
        "https://sidih.si/cdn/121/index.html"
      ],
      "metadata": {
        "id": "2CBbVkarCCVh"
      }
    },
    {
      "cell_type": "code",
      "execution_count": 1,
      "metadata": {
        "id": "tHS7EvYUB8SE",
        "outputId": "15107047-932a-4377-ab2b-0187025c69c3",
        "colab": {
          "base_uri": "https://localhost:8080/"
        }
      },
      "outputs": [
        {
          "output_type": "stream",
          "name": "stdout",
          "text": [
            "--2024-12-22 09:41:54--  https://zenodo.org/records/10450641/files/trainingset-ideology-power.zip?download=1\n",
            "Resolving zenodo.org (zenodo.org)... 188.185.45.92, 188.185.43.25, 188.185.48.194, ...\n",
            "Connecting to zenodo.org (zenodo.org)|188.185.45.92|:443... connected.\n",
            "HTTP request sent, awaiting response... 200 OK\n",
            "Length: 813899321 (776M) [application/octet-stream]\n",
            "Saving to: ‘trainingset-ideology-power.zip’\n",
            "\n",
            "trainingset-ideolog 100%[===================>] 776.19M  30.3MB/s    in 30s     \n",
            "\n",
            "2024-12-22 09:42:25 (25.6 MB/s) - ‘trainingset-ideology-power.zip’ saved [813899321/813899321]\n",
            "\n"
          ]
        }
      ],
      "source": [
        "!wget -O trainingset-ideology-power.zip https://zenodo.org/records/10450641/files/trainingset-ideology-power.zip?download=1"
      ]
    },
    {
      "cell_type": "code",
      "source": [
        "!unzip trainingset-ideology-power.zip -d trainingset-ideology-power"
      ],
      "metadata": {
        "id": "a9-keQFTvwu-",
        "outputId": "48764f27-7594-409d-8417-bd21e9c836b4",
        "colab": {
          "base_uri": "https://localhost:8080/"
        }
      },
      "execution_count": 2,
      "outputs": [
        {
          "output_type": "stream",
          "name": "stdout",
          "text": [
            "Archive:  trainingset-ideology-power.zip\n",
            "   creating: trainingset-ideology-power/orientation/\n",
            "  inflating: trainingset-ideology-power/orientation/orientation-at-train.tsv  \n",
            "  inflating: trainingset-ideology-power/orientation/orientation-ba-train.tsv  \n",
            "  inflating: trainingset-ideology-power/orientation/orientation-be-train.tsv  \n",
            "  inflating: trainingset-ideology-power/orientation/orientation-bg-train.tsv  \n",
            "  inflating: trainingset-ideology-power/orientation/orientation-cz-train.tsv  \n",
            "  inflating: trainingset-ideology-power/orientation/orientation-dk-train.tsv  \n",
            "  inflating: trainingset-ideology-power/orientation/orientation-ee-train.tsv  \n",
            "  inflating: trainingset-ideology-power/orientation/orientation-es-ct-train.tsv  \n",
            "  inflating: trainingset-ideology-power/orientation/orientation-es-ga-train.tsv  \n",
            "  inflating: trainingset-ideology-power/orientation/orientation-es-train.tsv  \n",
            "  inflating: trainingset-ideology-power/orientation/orientation-fi-train.tsv  \n",
            "  inflating: trainingset-ideology-power/orientation/orientation-fr-train.tsv  \n",
            "  inflating: trainingset-ideology-power/orientation/orientation-gb-train.tsv  \n",
            "  inflating: trainingset-ideology-power/orientation/orientation-gr-train.tsv  \n",
            "  inflating: trainingset-ideology-power/orientation/orientation-hr-train.tsv  \n",
            "  inflating: trainingset-ideology-power/orientation/orientation-hu-train.tsv  \n",
            "  inflating: trainingset-ideology-power/orientation/orientation-is-train.tsv  \n",
            "  inflating: trainingset-ideology-power/orientation/orientation-it-train.tsv  \n",
            "  inflating: trainingset-ideology-power/orientation/orientation-lv-train.tsv  \n",
            "  inflating: trainingset-ideology-power/orientation/orientation-nl-train.tsv  \n",
            "  inflating: trainingset-ideology-power/orientation/orientation-no-train.tsv  \n",
            "  inflating: trainingset-ideology-power/orientation/orientation-pl-train.tsv  \n",
            "  inflating: trainingset-ideology-power/orientation/orientation-pt-train.tsv  \n",
            "  inflating: trainingset-ideology-power/orientation/orientation-rs-train.tsv  \n",
            "  inflating: trainingset-ideology-power/orientation/orientation-se-train.tsv  \n",
            "  inflating: trainingset-ideology-power/orientation/orientation-si-train.tsv  \n",
            "  inflating: trainingset-ideology-power/orientation/orientation-tr-train.tsv  \n",
            "  inflating: trainingset-ideology-power/orientation/orientation-ua-train.tsv  \n",
            "   creating: trainingset-ideology-power/power/\n",
            "  inflating: trainingset-ideology-power/power/power-at-train.tsv  \n",
            "  inflating: trainingset-ideology-power/power/power-ba-train.tsv  \n",
            "  inflating: trainingset-ideology-power/power/power-be-train.tsv  \n",
            "  inflating: trainingset-ideology-power/power/power-bg-train.tsv  \n",
            "  inflating: trainingset-ideology-power/power/power-cz-train.tsv  \n",
            "  inflating: trainingset-ideology-power/power/power-dk-train.tsv  \n",
            "  inflating: trainingset-ideology-power/power/power-es-ct-train.tsv  \n",
            "  inflating: trainingset-ideology-power/power/power-es-ga-train.tsv  \n",
            "  inflating: trainingset-ideology-power/power/power-es-pv-train.tsv  \n",
            "  inflating: trainingset-ideology-power/power/power-es-train.tsv  \n",
            "  inflating: trainingset-ideology-power/power/power-fi-train.tsv  \n",
            "  inflating: trainingset-ideology-power/power/power-fr-train.tsv  \n",
            "  inflating: trainingset-ideology-power/power/power-gb-train.tsv  \n",
            "  inflating: trainingset-ideology-power/power/power-gr-train.tsv  \n",
            "  inflating: trainingset-ideology-power/power/power-hr-train.tsv  \n",
            "  inflating: trainingset-ideology-power/power/power-hu-train.tsv  \n",
            "  inflating: trainingset-ideology-power/power/power-it-train.tsv  \n",
            "  inflating: trainingset-ideology-power/power/power-lv-train.tsv  \n",
            "  inflating: trainingset-ideology-power/power/power-nl-train.tsv  \n",
            "  inflating: trainingset-ideology-power/power/power-pl-train.tsv  \n",
            "  inflating: trainingset-ideology-power/power/power-pt-train.tsv  \n",
            "  inflating: trainingset-ideology-power/power/power-rs-train.tsv  \n",
            "  inflating: trainingset-ideology-power/power/power-si-train.tsv  \n",
            "  inflating: trainingset-ideology-power/power/power-tr-train.tsv  \n",
            "  inflating: trainingset-ideology-power/power/power-ua-train.tsv  \n",
            "  inflating: trainingset-ideology-power/README.txt  \n"
          ]
        }
      ]
    },
    {
      "cell_type": "markdown",
      "source": [
        "## Masked LM\n",
        "\n",
        "Fine-tune the selected masked language model for each task: For one task use ”text_en” and\n",
        "for the other task use ”text” (original language)."
      ],
      "metadata": {
        "id": "JzMapXzvESSB"
      }
    },
    {
      "cell_type": "code",
      "source": [],
      "metadata": {
        "id": "c-nUgDNcFct1"
      },
      "execution_count": null,
      "outputs": []
    },
    {
      "cell_type": "markdown",
      "source": [
        "## Causal LM\n",
        "\n",
        "For each task, perform inference using the selected causal language model twice: Once using\n",
        "”text en” and once using ”text” (original language)."
      ],
      "metadata": {
        "id": "vWVNYJEkFWQM"
      }
    },
    {
      "cell_type": "code",
      "source": [],
      "metadata": {
        "id": "6aT-0yNlFbCX"
      },
      "execution_count": null,
      "outputs": []
    }
  ]
}